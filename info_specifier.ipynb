{
 "cells": [
  {
   "cell_type": "markdown",
   "metadata": {},
   "source": [
    "# using spacy"
   ]
  },
  {
   "cell_type": "code",
   "execution_count": 1,
   "metadata": {},
   "outputs": [],
   "source": [
    "import spacy"
   ]
  },
  {
   "cell_type": "code",
   "execution_count": 2,
   "metadata": {},
   "outputs": [],
   "source": [
    "from spacy import displacy"
   ]
  },
  {
   "cell_type": "code",
   "execution_count": 3,
   "metadata": {},
   "outputs": [
    {
     "ename": "OSError",
     "evalue": "[E050] Can't find model 'en_core_web_lg'. It doesn't seem to be a shortcut link, a Python package or a valid path to a data directory.",
     "output_type": "error",
     "traceback": [
      "\u001b[0;31m---------------------------------------------------------------------------\u001b[0m",
      "\u001b[0;31mOSError\u001b[0m                                   Traceback (most recent call last)",
      "\u001b[0;32m<ipython-input-3-ceb8f64bba80>\u001b[0m in \u001b[0;36m<module>\u001b[0;34m\u001b[0m\n\u001b[0;32m----> 1\u001b[0;31m \u001b[0mnlp\u001b[0m \u001b[0;34m=\u001b[0m \u001b[0mspacy\u001b[0m\u001b[0;34m.\u001b[0m\u001b[0mload\u001b[0m\u001b[0;34m(\u001b[0m\u001b[0;34m'en_core_web_lg'\u001b[0m\u001b[0;34m)\u001b[0m\u001b[0;34m\u001b[0m\u001b[0m\n\u001b[0m",
      "\u001b[0;32m~/Desktop/anaconda3/envs/venv/lib/python3.6/site-packages/spacy/__init__.py\u001b[0m in \u001b[0;36mload\u001b[0;34m(name, **overrides)\u001b[0m\n\u001b[1;32m     28\u001b[0m     \u001b[0;32mif\u001b[0m \u001b[0mdepr_path\u001b[0m \u001b[0;32mnot\u001b[0m \u001b[0;32min\u001b[0m \u001b[0;34m(\u001b[0m\u001b[0;32mTrue\u001b[0m\u001b[0;34m,\u001b[0m \u001b[0;32mFalse\u001b[0m\u001b[0;34m,\u001b[0m \u001b[0;32mNone\u001b[0m\u001b[0;34m)\u001b[0m\u001b[0;34m:\u001b[0m\u001b[0;34m\u001b[0m\u001b[0m\n\u001b[1;32m     29\u001b[0m         \u001b[0mwarnings\u001b[0m\u001b[0;34m.\u001b[0m\u001b[0mwarn\u001b[0m\u001b[0;34m(\u001b[0m\u001b[0mWarnings\u001b[0m\u001b[0;34m.\u001b[0m\u001b[0mW001\u001b[0m\u001b[0;34m.\u001b[0m\u001b[0mformat\u001b[0m\u001b[0;34m(\u001b[0m\u001b[0mpath\u001b[0m\u001b[0;34m=\u001b[0m\u001b[0mdepr_path\u001b[0m\u001b[0;34m)\u001b[0m\u001b[0;34m,\u001b[0m \u001b[0mDeprecationWarning\u001b[0m\u001b[0;34m)\u001b[0m\u001b[0;34m\u001b[0m\u001b[0m\n\u001b[0;32m---> 30\u001b[0;31m     \u001b[0;32mreturn\u001b[0m \u001b[0mutil\u001b[0m\u001b[0;34m.\u001b[0m\u001b[0mload_model\u001b[0m\u001b[0;34m(\u001b[0m\u001b[0mname\u001b[0m\u001b[0;34m,\u001b[0m \u001b[0;34m**\u001b[0m\u001b[0moverrides\u001b[0m\u001b[0;34m)\u001b[0m\u001b[0;34m\u001b[0m\u001b[0m\n\u001b[0m\u001b[1;32m     31\u001b[0m \u001b[0;34m\u001b[0m\u001b[0m\n\u001b[1;32m     32\u001b[0m \u001b[0;34m\u001b[0m\u001b[0m\n",
      "\u001b[0;32m~/Desktop/anaconda3/envs/venv/lib/python3.6/site-packages/spacy/util.py\u001b[0m in \u001b[0;36mload_model\u001b[0;34m(name, **overrides)\u001b[0m\n\u001b[1;32m    173\u001b[0m     \u001b[0;32melif\u001b[0m \u001b[0mhasattr\u001b[0m\u001b[0;34m(\u001b[0m\u001b[0mname\u001b[0m\u001b[0;34m,\u001b[0m \u001b[0;34m\"exists\"\u001b[0m\u001b[0;34m)\u001b[0m\u001b[0;34m:\u001b[0m  \u001b[0;31m# Path or Path-like to model data\u001b[0m\u001b[0;34m\u001b[0m\u001b[0m\n\u001b[1;32m    174\u001b[0m         \u001b[0;32mreturn\u001b[0m \u001b[0mload_model_from_path\u001b[0m\u001b[0;34m(\u001b[0m\u001b[0mname\u001b[0m\u001b[0;34m,\u001b[0m \u001b[0;34m**\u001b[0m\u001b[0moverrides\u001b[0m\u001b[0;34m)\u001b[0m\u001b[0;34m\u001b[0m\u001b[0m\n\u001b[0;32m--> 175\u001b[0;31m     \u001b[0;32mraise\u001b[0m \u001b[0mIOError\u001b[0m\u001b[0;34m(\u001b[0m\u001b[0mErrors\u001b[0m\u001b[0;34m.\u001b[0m\u001b[0mE050\u001b[0m\u001b[0;34m.\u001b[0m\u001b[0mformat\u001b[0m\u001b[0;34m(\u001b[0m\u001b[0mname\u001b[0m\u001b[0;34m=\u001b[0m\u001b[0mname\u001b[0m\u001b[0;34m)\u001b[0m\u001b[0;34m)\u001b[0m\u001b[0;34m\u001b[0m\u001b[0m\n\u001b[0m\u001b[1;32m    176\u001b[0m \u001b[0;34m\u001b[0m\u001b[0m\n\u001b[1;32m    177\u001b[0m \u001b[0;34m\u001b[0m\u001b[0m\n",
      "\u001b[0;31mOSError\u001b[0m: [E050] Can't find model 'en_core_web_lg'. It doesn't seem to be a shortcut link, a Python package or a valid path to a data directory."
     ]
    }
   ],
   "source": [
    "nlp = spacy.load('en_core_web_lg')"
   ]
  },
  {
   "cell_type": "code",
   "execution_count": 4,
   "metadata": {},
   "outputs": [],
   "source": [
    "ttext=nlp(\"hello i am Parikshit Singh, nice to meet you. i am from london and my salary is $5500 and I was born on 14/11/1998.\")"
   ]
  },
  {
   "cell_type": "code",
   "execution_count": 5,
   "metadata": {},
   "outputs": [
    {
     "data": {
      "text/html": [
       "<span class=\"tex2jax_ignore\"><div class=\"entities\" style=\"line-height: 2.5; direction: ltr\">hello i am \n",
       "<mark class=\"entity\" style=\"background: #aa9cfc; padding: 0.45em 0.6em; margin: 0 0.25em; line-height: 1; border-radius: 0.35em;\">\n",
       "    Parikshit Singh\n",
       "    <span style=\"font-size: 0.8em; font-weight: bold; line-height: 1; border-radius: 0.35em; text-transform: uppercase; vertical-align: middle; margin-left: 0.5rem\">PERSON</span>\n",
       "</mark>\n",
       ", nice to meet you. i am from \n",
       "<mark class=\"entity\" style=\"background: #feca74; padding: 0.45em 0.6em; margin: 0 0.25em; line-height: 1; border-radius: 0.35em;\">\n",
       "    london\n",
       "    <span style=\"font-size: 0.8em; font-weight: bold; line-height: 1; border-radius: 0.35em; text-transform: uppercase; vertical-align: middle; margin-left: 0.5rem\">GPE</span>\n",
       "</mark>\n",
       " and my salary is $\n",
       "<mark class=\"entity\" style=\"background: #e4e7d2; padding: 0.45em 0.6em; margin: 0 0.25em; line-height: 1; border-radius: 0.35em;\">\n",
       "    5500\n",
       "    <span style=\"font-size: 0.8em; font-weight: bold; line-height: 1; border-radius: 0.35em; text-transform: uppercase; vertical-align: middle; margin-left: 0.5rem\">MONEY</span>\n",
       "</mark>\n",
       " and I was born on \n",
       "<mark class=\"entity\" style=\"background: #bfe1d9; padding: 0.45em 0.6em; margin: 0 0.25em; line-height: 1; border-radius: 0.35em;\">\n",
       "    14/11/1998\n",
       "    <span style=\"font-size: 0.8em; font-weight: bold; line-height: 1; border-radius: 0.35em; text-transform: uppercase; vertical-align: middle; margin-left: 0.5rem\">DATE</span>\n",
       "</mark>\n",
       ".</div></span>"
      ],
      "text/plain": [
       "<IPython.core.display.HTML object>"
      ]
     },
     "metadata": {},
     "output_type": "display_data"
    }
   ],
   "source": [
    "displacy.render(ttext,style='ent',jupyter=True)"
   ]
  },
  {
   "cell_type": "code",
   "execution_count": 6,
   "metadata": {},
   "outputs": [],
   "source": [
    "file=open(\"myfile.txt\",\"r\")"
   ]
  },
  {
   "cell_type": "code",
   "execution_count": 7,
   "metadata": {},
   "outputs": [],
   "source": [
    "txt=file.read()"
   ]
  },
  {
   "cell_type": "code",
   "execution_count": 8,
   "metadata": {},
   "outputs": [
    {
     "name": "stdout",
     "output_type": "stream",
     "text": [
      "og ETM RETAIL LTD}\n",
      "Bigbazaar, Plot Ho:5, ”!\n",
      "\n",
      "Trinity Mail, Opp: Shyam Hagar\n",
      "New Sanganer Road , Jaipur-303902\n",
      "TEL NO. 0141-5159909\n",
      "HELPLINE: 1800 200 2255\n",
      "VAT T1N:0808161327g WE.F. 01.08.2009\n",
      "CIN HO;L51S0SHH2007PLC269269\n",
      "\n",
      " \n",
      "\n",
      "ITEM DESC QTY DISC AMT HET ANT\n",
      "VAT RATE BASE ANT VAT AMT\n",
      ": Rs.\n",
      "ALA LIQ BLEACH 500HL 2 0.00 = 116.00\n",
      "VAT 14.5% 101.31 14,69\n",
      "THUMSUP SOFT ORKK 2b 1 12.00- 67.00\n",
      "HVAT 20X 55.83 Wl? . :\n",
      "QUA TOMATO YEGIE 40g 1 0.00 15.00\n",
      "VAT 14.5% 13.10 1.90. /\n",
      "FLUSH TABLT 2#506 1 0.00°. 86.00 |\n",
      "VAT 14.5% 74,24 10.78 ! i\n",
      "DETT HAMDUASH 200HL 1 0.00 86.00 |\n",
      "VAT 14.5% 75,11 10.89 A.\n",
      "Plain dyed HT Pink 4 0 red 69.00\n",
      "A VAT 08 69. ‘\n",
      "Plain Dyed HT Hine | 0.00 = 69.00\n",
      "A VAT 0% 69.00 0.00\n",
      "TIDE JASHIN ROSE 4KG } 20.00- 379.00\n",
      "\n",
      "| VAT 14.5% 331.00\n",
      "\n",
      "48.00 ,\n",
      "TOILET BRUSH ~ 0.00 175.0! |\n",
      "\f",
      "\n"
     ]
    }
   ],
   "source": [
    "print(txt)"
   ]
  },
  {
   "cell_type": "code",
   "execution_count": 9,
   "metadata": {},
   "outputs": [],
   "source": [
    "txt_copy=txt"
   ]
  },
  {
   "cell_type": "code",
   "execution_count": 10,
   "metadata": {},
   "outputs": [],
   "source": [
    "nlp_txt= nlp(txt_copy)"
   ]
  },
  {
   "cell_type": "code",
   "execution_count": 11,
   "metadata": {},
   "outputs": [
    {
     "data": {
      "text/html": [
       "<span class=\"tex2jax_ignore\"><div class=\"entities\" style=\"line-height: 2.5; direction: ltr\">og \n",
       "<mark class=\"entity\" style=\"background: #7aecec; padding: 0.45em 0.6em; margin: 0 0.25em; line-height: 1; border-radius: 0.35em;\">\n",
       "    ETM RETAIL LTD\n",
       "    <span style=\"font-size: 0.8em; font-weight: bold; line-height: 1; border-radius: 0.35em; text-transform: uppercase; vertical-align: middle; margin-left: 0.5rem\">ORG</span>\n",
       "</mark>\n",
       "}</br>Bigbazaar, \n",
       "<mark class=\"entity\" style=\"background: #7aecec; padding: 0.45em 0.6em; margin: 0 0.25em; line-height: 1; border-radius: 0.35em;\">\n",
       "    Plot\n",
       "    <span style=\"font-size: 0.8em; font-weight: bold; line-height: 1; border-radius: 0.35em; text-transform: uppercase; vertical-align: middle; margin-left: 0.5rem\">ORG</span>\n",
       "</mark>\n",
       " Ho:5, ”!</br></br>Trinity Mail, Opp: \n",
       "<mark class=\"entity\" style=\"background: #7aecec; padding: 0.45em 0.6em; margin: 0 0.25em; line-height: 1; border-radius: 0.35em;\">\n",
       "    Shyam Hagar\n",
       "    <span style=\"font-size: 0.8em; font-weight: bold; line-height: 1; border-radius: 0.35em; text-transform: uppercase; vertical-align: middle; margin-left: 0.5rem\">ORG</span>\n",
       "</mark>\n",
       "</br>New \n",
       "<mark class=\"entity\" style=\"background: #ddd; padding: 0.45em 0.6em; margin: 0 0.25em; line-height: 1; border-radius: 0.35em;\">\n",
       "    Sanganer Road\n",
       "    <span style=\"font-size: 0.8em; font-weight: bold; line-height: 1; border-radius: 0.35em; text-transform: uppercase; vertical-align: middle; margin-left: 0.5rem\">FAC</span>\n",
       "</mark>\n",
       " , \n",
       "<mark class=\"entity\" style=\"background: #7aecec; padding: 0.45em 0.6em; margin: 0 0.25em; line-height: 1; border-radius: 0.35em;\">\n",
       "    Jaipur-303902\n",
       "    <span style=\"font-size: 0.8em; font-weight: bold; line-height: 1; border-radius: 0.35em; text-transform: uppercase; vertical-align: middle; margin-left: 0.5rem\">ORG</span>\n",
       "</mark>\n",
       "</br>TEL NO. 0141-5159909</br>HELPLINE: \n",
       "<mark class=\"entity\" style=\"background: #e4e7d2; padding: 0.45em 0.6em; margin: 0 0.25em; line-height: 1; border-radius: 0.35em;\">\n",
       "    1800\n",
       "    <span style=\"font-size: 0.8em; font-weight: bold; line-height: 1; border-radius: 0.35em; text-transform: uppercase; vertical-align: middle; margin-left: 0.5rem\">CARDINAL</span>\n",
       "</mark>\n",
       " \n",
       "<mark class=\"entity\" style=\"background: #e4e7d2; padding: 0.45em 0.6em; margin: 0 0.25em; line-height: 1; border-radius: 0.35em;\">\n",
       "    200\n",
       "    <span style=\"font-size: 0.8em; font-weight: bold; line-height: 1; border-radius: 0.35em; text-transform: uppercase; vertical-align: middle; margin-left: 0.5rem\">CARDINAL</span>\n",
       "</mark>\n",
       " 2255</br>VAT T1N:0808161327g WE.F. 01.08.2009</br>CIN HO;L51S0SHH2007PLC269269</br></br> </br></br>ITEM DESC QTY DISC AMT HET ANT</br>VAT RATE BASE ANT VAT AMT</br>: Rs.</br>ALA LIQ BLEACH 500HL 2 \n",
       "<mark class=\"entity\" style=\"background: #e4e7d2; padding: 0.45em 0.6em; margin: 0 0.25em; line-height: 1; border-radius: 0.35em;\">\n",
       "    0.00\n",
       "    <span style=\"font-size: 0.8em; font-weight: bold; line-height: 1; border-radius: 0.35em; text-transform: uppercase; vertical-align: middle; margin-left: 0.5rem\">CARDINAL</span>\n",
       "</mark>\n",
       " = \n",
       "<mark class=\"entity\" style=\"background: #e4e7d2; padding: 0.45em 0.6em; margin: 0 0.25em; line-height: 1; border-radius: 0.35em;\">\n",
       "    116.00\n",
       "    <span style=\"font-size: 0.8em; font-weight: bold; line-height: 1; border-radius: 0.35em; text-transform: uppercase; vertical-align: middle; margin-left: 0.5rem\">CARDINAL</span>\n",
       "</mark>\n",
       "</br>VAT \n",
       "<mark class=\"entity\" style=\"background: #e4e7d2; padding: 0.45em 0.6em; margin: 0 0.25em; line-height: 1; border-radius: 0.35em;\">\n",
       "    14.5%\n",
       "    <span style=\"font-size: 0.8em; font-weight: bold; line-height: 1; border-radius: 0.35em; text-transform: uppercase; vertical-align: middle; margin-left: 0.5rem\">PERCENT</span>\n",
       "</mark>\n",
       " \n",
       "<mark class=\"entity\" style=\"background: #e4e7d2; padding: 0.45em 0.6em; margin: 0 0.25em; line-height: 1; border-radius: 0.35em;\">\n",
       "    101.31\n",
       "    <span style=\"font-size: 0.8em; font-weight: bold; line-height: 1; border-radius: 0.35em; text-transform: uppercase; vertical-align: middle; margin-left: 0.5rem\">CARDINAL</span>\n",
       "</mark>\n",
       " 14,69</br>THUMSUP SOFT ORKK \n",
       "<mark class=\"entity\" style=\"background: #e4e7d2; padding: 0.45em 0.6em; margin: 0 0.25em; line-height: 1; border-radius: 0.35em;\">\n",
       "    2b 1\n",
       "    <span style=\"font-size: 0.8em; font-weight: bold; line-height: 1; border-radius: 0.35em; text-transform: uppercase; vertical-align: middle; margin-left: 0.5rem\">CARDINAL</span>\n",
       "</mark>\n",
       " 12.00- \n",
       "<mark class=\"entity\" style=\"background: #e4e7d2; padding: 0.45em 0.6em; margin: 0 0.25em; line-height: 1; border-radius: 0.35em;\">\n",
       "    67.00\n",
       "    <span style=\"font-size: 0.8em; font-weight: bold; line-height: 1; border-radius: 0.35em; text-transform: uppercase; vertical-align: middle; margin-left: 0.5rem\">CARDINAL</span>\n",
       "</mark>\n",
       "</br>\n",
       "<mark class=\"entity\" style=\"background: #7aecec; padding: 0.45em 0.6em; margin: 0 0.25em; line-height: 1; border-radius: 0.35em;\">\n",
       "    HVAT\n",
       "    <span style=\"font-size: 0.8em; font-weight: bold; line-height: 1; border-radius: 0.35em; text-transform: uppercase; vertical-align: middle; margin-left: 0.5rem\">ORG</span>\n",
       "</mark>\n",
       " 20X 55.83 \n",
       "<mark class=\"entity\" style=\"background: #aa9cfc; padding: 0.45em 0.6em; margin: 0 0.25em; line-height: 1; border-radius: 0.35em;\">\n",
       "    Wl\n",
       "    <span style=\"font-size: 0.8em; font-weight: bold; line-height: 1; border-radius: 0.35em; text-transform: uppercase; vertical-align: middle; margin-left: 0.5rem\">PERSON</span>\n",
       "</mark>\n",
       "? . :</br>QUA TOMATO YEGIE \n",
       "<mark class=\"entity\" style=\"background: #e4e7d2; padding: 0.45em 0.6em; margin: 0 0.25em; line-height: 1; border-radius: 0.35em;\">\n",
       "    40\n",
       "    <span style=\"font-size: 0.8em; font-weight: bold; line-height: 1; border-radius: 0.35em; text-transform: uppercase; vertical-align: middle; margin-left: 0.5rem\">CARDINAL</span>\n",
       "</mark>\n",
       "g 1 \n",
       "<mark class=\"entity\" style=\"background: #e4e7d2; padding: 0.45em 0.6em; margin: 0 0.25em; line-height: 1; border-radius: 0.35em;\">\n",
       "    0.00 15.00\n",
       "    <span style=\"font-size: 0.8em; font-weight: bold; line-height: 1; border-radius: 0.35em; text-transform: uppercase; vertical-align: middle; margin-left: 0.5rem\">CARDINAL</span>\n",
       "</mark>\n",
       "</br>VAT \n",
       "<mark class=\"entity\" style=\"background: #e4e7d2; padding: 0.45em 0.6em; margin: 0 0.25em; line-height: 1; border-radius: 0.35em;\">\n",
       "    14.5%\n",
       "    <span style=\"font-size: 0.8em; font-weight: bold; line-height: 1; border-radius: 0.35em; text-transform: uppercase; vertical-align: middle; margin-left: 0.5rem\">PERCENT</span>\n",
       "</mark>\n",
       " 13.10 \n",
       "<mark class=\"entity\" style=\"background: #e4e7d2; padding: 0.45em 0.6em; margin: 0 0.25em; line-height: 1; border-radius: 0.35em;\">\n",
       "    1.90\n",
       "    <span style=\"font-size: 0.8em; font-weight: bold; line-height: 1; border-radius: 0.35em; text-transform: uppercase; vertical-align: middle; margin-left: 0.5rem\">CARDINAL</span>\n",
       "</mark>\n",
       ". /</br>FLUSH TABLT 2#506 1 0.00°. \n",
       "<mark class=\"entity\" style=\"background: #e4e7d2; padding: 0.45em 0.6em; margin: 0 0.25em; line-height: 1; border-radius: 0.35em;\">\n",
       "    86.00\n",
       "    <span style=\"font-size: 0.8em; font-weight: bold; line-height: 1; border-radius: 0.35em; text-transform: uppercase; vertical-align: middle; margin-left: 0.5rem\">CARDINAL</span>\n",
       "</mark>\n",
       " |</br>VAT \n",
       "<mark class=\"entity\" style=\"background: #e4e7d2; padding: 0.45em 0.6em; margin: 0 0.25em; line-height: 1; border-radius: 0.35em;\">\n",
       "    14.5%\n",
       "    <span style=\"font-size: 0.8em; font-weight: bold; line-height: 1; border-radius: 0.35em; text-transform: uppercase; vertical-align: middle; margin-left: 0.5rem\">PERCENT</span>\n",
       "</mark>\n",
       " 74,24 \n",
       "<mark class=\"entity\" style=\"background: #e4e7d2; padding: 0.45em 0.6em; margin: 0 0.25em; line-height: 1; border-radius: 0.35em;\">\n",
       "    10.78\n",
       "    <span style=\"font-size: 0.8em; font-weight: bold; line-height: 1; border-radius: 0.35em; text-transform: uppercase; vertical-align: middle; margin-left: 0.5rem\">CARDINAL</span>\n",
       "</mark>\n",
       " ! i</br>DETT HAMDUASH 200HL 1 0.00 86.00 |</br>VAT \n",
       "<mark class=\"entity\" style=\"background: #e4e7d2; padding: 0.45em 0.6em; margin: 0 0.25em; line-height: 1; border-radius: 0.35em;\">\n",
       "    14.5%\n",
       "    <span style=\"font-size: 0.8em; font-weight: bold; line-height: 1; border-radius: 0.35em; text-transform: uppercase; vertical-align: middle; margin-left: 0.5rem\">PERCENT</span>\n",
       "</mark>\n",
       " 75,11 \n",
       "<mark class=\"entity\" style=\"background: #e4e7d2; padding: 0.45em 0.6em; margin: 0 0.25em; line-height: 1; border-radius: 0.35em;\">\n",
       "    10.89\n",
       "    <span style=\"font-size: 0.8em; font-weight: bold; line-height: 1; border-radius: 0.35em; text-transform: uppercase; vertical-align: middle; margin-left: 0.5rem\">CARDINAL</span>\n",
       "</mark>\n",
       " A.</br>Plain dyed HT Pink 4 \n",
       "<mark class=\"entity\" style=\"background: #e4e7d2; padding: 0.45em 0.6em; margin: 0 0.25em; line-height: 1; border-radius: 0.35em;\">\n",
       "    0\n",
       "    <span style=\"font-size: 0.8em; font-weight: bold; line-height: 1; border-radius: 0.35em; text-transform: uppercase; vertical-align: middle; margin-left: 0.5rem\">CARDINAL</span>\n",
       "</mark>\n",
       " red 69.00</br>A VAT \n",
       "<mark class=\"entity\" style=\"background: #bfe1d9; padding: 0.45em 0.6em; margin: 0 0.25em; line-height: 1; border-radius: 0.35em;\">\n",
       "    08 69\n",
       "    <span style=\"font-size: 0.8em; font-weight: bold; line-height: 1; border-radius: 0.35em; text-transform: uppercase; vertical-align: middle; margin-left: 0.5rem\">DATE</span>\n",
       "</mark>\n",
       ". ‘</br>Plain Dyed HT Hine | \n",
       "<mark class=\"entity\" style=\"background: #e4e7d2; padding: 0.45em 0.6em; margin: 0 0.25em; line-height: 1; border-radius: 0.35em;\">\n",
       "    0.00\n",
       "    <span style=\"font-size: 0.8em; font-weight: bold; line-height: 1; border-radius: 0.35em; text-transform: uppercase; vertical-align: middle; margin-left: 0.5rem\">CARDINAL</span>\n",
       "</mark>\n",
       " = \n",
       "<mark class=\"entity\" style=\"background: #e4e7d2; padding: 0.45em 0.6em; margin: 0 0.25em; line-height: 1; border-radius: 0.35em;\">\n",
       "    69.00\n",
       "    <span style=\"font-size: 0.8em; font-weight: bold; line-height: 1; border-radius: 0.35em; text-transform: uppercase; vertical-align: middle; margin-left: 0.5rem\">CARDINAL</span>\n",
       "</mark>\n",
       "</br>A \n",
       "<mark class=\"entity\" style=\"background: #7aecec; padding: 0.45em 0.6em; margin: 0 0.25em; line-height: 1; border-radius: 0.35em;\">\n",
       "    VAT\n",
       "    <span style=\"font-size: 0.8em; font-weight: bold; line-height: 1; border-radius: 0.35em; text-transform: uppercase; vertical-align: middle; margin-left: 0.5rem\">ORG</span>\n",
       "</mark>\n",
       " \n",
       "<mark class=\"entity\" style=\"background: #e4e7d2; padding: 0.45em 0.6em; margin: 0 0.25em; line-height: 1; border-radius: 0.35em;\">\n",
       "    0%\n",
       "    <span style=\"font-size: 0.8em; font-weight: bold; line-height: 1; border-radius: 0.35em; text-transform: uppercase; vertical-align: middle; margin-left: 0.5rem\">PERCENT</span>\n",
       "</mark>\n",
       " 69.00 \n",
       "<mark class=\"entity\" style=\"background: #e4e7d2; padding: 0.45em 0.6em; margin: 0 0.25em; line-height: 1; border-radius: 0.35em;\">\n",
       "    0.00\n",
       "    <span style=\"font-size: 0.8em; font-weight: bold; line-height: 1; border-radius: 0.35em; text-transform: uppercase; vertical-align: middle; margin-left: 0.5rem\">CARDINAL</span>\n",
       "</mark>\n",
       "</br>TIDE JASHIN ROSE 4KG } \n",
       "<mark class=\"entity\" style=\"background: #e4e7d2; padding: 0.45em 0.6em; margin: 0 0.25em; line-height: 1; border-radius: 0.35em;\">\n",
       "    20.00- 379.00\n",
       "    <span style=\"font-size: 0.8em; font-weight: bold; line-height: 1; border-radius: 0.35em; text-transform: uppercase; vertical-align: middle; margin-left: 0.5rem\">CARDINAL</span>\n",
       "</mark>\n",
       "</br></br>| VAT \n",
       "<mark class=\"entity\" style=\"background: #e4e7d2; padding: 0.45em 0.6em; margin: 0 0.25em; line-height: 1; border-radius: 0.35em;\">\n",
       "    14.5%\n",
       "    <span style=\"font-size: 0.8em; font-weight: bold; line-height: 1; border-radius: 0.35em; text-transform: uppercase; vertical-align: middle; margin-left: 0.5rem\">PERCENT</span>\n",
       "</mark>\n",
       " \n",
       "<mark class=\"entity\" style=\"background: #e4e7d2; padding: 0.45em 0.6em; margin: 0 0.25em; line-height: 1; border-radius: 0.35em;\">\n",
       "    331.00\n",
       "    <span style=\"font-size: 0.8em; font-weight: bold; line-height: 1; border-radius: 0.35em; text-transform: uppercase; vertical-align: middle; margin-left: 0.5rem\">CARDINAL</span>\n",
       "</mark>\n",
       "</br></br>\n",
       "<mark class=\"entity\" style=\"background: #e4e7d2; padding: 0.45em 0.6em; margin: 0 0.25em; line-height: 1; border-radius: 0.35em;\">\n",
       "    48.00\n",
       "    <span style=\"font-size: 0.8em; font-weight: bold; line-height: 1; border-radius: 0.35em; text-transform: uppercase; vertical-align: middle; margin-left: 0.5rem\">CARDINAL</span>\n",
       "</mark>\n",
       " ,</br>TOILET BRUSH ~ \n",
       "<mark class=\"entity\" style=\"background: #e4e7d2; padding: 0.45em 0.6em; margin: 0 0.25em; line-height: 1; border-radius: 0.35em;\">\n",
       "    0.00 175.0\n",
       "    <span style=\"font-size: 0.8em; font-weight: bold; line-height: 1; border-radius: 0.35em; text-transform: uppercase; vertical-align: middle; margin-left: 0.5rem\">CARDINAL</span>\n",
       "</mark>\n",
       "! |\n",
       "\f",
       "</div></span>"
      ],
      "text/plain": [
       "<IPython.core.display.HTML object>"
      ]
     },
     "metadata": {},
     "output_type": "display_data"
    }
   ],
   "source": [
    "displacy.render(nlp_txt,style='ent',jupyter=True)"
   ]
  },
  {
   "cell_type": "code",
   "execution_count": 12,
   "metadata": {},
   "outputs": [],
   "source": [
    "from collections import defaultdict"
   ]
  },
  {
   "cell_type": "code",
   "execution_count": 13,
   "metadata": {},
   "outputs": [
    {
     "name": "stdout",
     "output_type": "stream",
     "text": [
      "Entities and scores (detected with beam search)\n",
      "Label: ORG, Text: Shyam Hagar, Score: 1.0000000000000002\n",
      "Label: FAC, Text: Sanganer Road, Score: 1.0000000000000002\n",
      "Label: ORG, Text: Jaipur-303902, Score: 1.0000000000000002\n",
      "Label: CARDINAL, Text: 1800, Score: 1.0000000000000002\n",
      "Label: LAW, Text: ITEM DESC QTY DISC AMT HET, Score: 1.0000000000000002\n",
      "Label: PRODUCT, Text: ANT VAT, Score: 1.0000000000000002\n",
      "Label: ORG, Text: ALA, Score: 1.0000000000000002\n",
      "Label: CARDINAL, Text: 0.00, Score: 1.0000000000000002\n",
      "Label: CARDINAL, Text: 116.00, Score: 1.0000000000000002\n",
      "Label: PERCENT, Text: 14.5%, Score: 1.0000000000000002\n",
      "Label: CARDINAL, Text: 2b 1, Score: 1.0000000000000002\n",
      "Label: CARDINAL, Text: 67.00, Score: 1.0000000000000002\n",
      "Label: CARDINAL, Text: 40, Score: 1.0000000000000002\n",
      "Label: CARDINAL, Text: 0.00 15.00, Score: 1.0000000000000002\n",
      "Label: PERCENT, Text: 14.5%, Score: 1.0000000000000002\n",
      "Label: CARDINAL, Text: 86.00, Score: 1.0000000000000002\n",
      "Label: PERCENT, Text: 14.5%, Score: 1.0000000000000002\n",
      "Label: PERCENT, Text: 14.5%, Score: 1.0000000000000002\n",
      "Label: CARDINAL, Text: 69.00, Score: 0.9282667231234092\n",
      "Label: DATE, Text: 08 69, Score: 1.0000000000000002\n",
      "Label: CARDINAL, Text: 69.00, Score: 1.0000000000000002\n",
      "Label: ORG, Text: VAT, Score: 1.0000000000000002\n",
      "Label: PERCENT, Text: 0%, Score: 1.0000000000000002\n",
      "Label: CARDINAL, Text: 0.00, Score: 1.0000000000000002\n",
      "Label: PRODUCT, Text: JASHIN ROSE 4KG, Score: 1.0000000000000002\n",
      "Label: PERCENT, Text: 14.5%, Score: 1.0000000000000002\n",
      "Label: CARDINAL, Text: 331.00, Score: 0.8006644161675337\n",
      "Label: CARDINAL, Text: 48.00, Score: 1.0000000000000002\n",
      "Label: CARDINAL, Text: 0.00 175.0, Score: 0.999836739046432\n"
     ]
    }
   ],
   "source": [
    "with nlp.disable_pipes('ner'):\n",
    "    doc = nlp(txt)\n",
    "\n",
    "store = []    \n",
    "threshold = 0.75\n",
    "beams = nlp.entity.beam_parse([ doc ], beam_width = 16, beam_density = 0.0001)\n",
    "\n",
    "entity_scores = defaultdict(float)\n",
    "for beam in beams:\n",
    "    for score, ents in nlp.entity.moves.get_beam_parses(beam):\n",
    "        for start, end, label in ents:\n",
    "            entity_scores[(start, end, label)] += score\n",
    "\n",
    "print ('Entities and scores (detected with beam search)')\n",
    "for key in entity_scores:\n",
    "    start, end, label = key\n",
    "    score = entity_scores[key]\n",
    "    if ( score > threshold):\n",
    "        store.append(label) \n",
    "        store.append('{}'.format(doc[start:end]))\n",
    "        print ('Label: {}, Text: {}, Score: {}'.format(label, doc[start:end], score))\n"
   ]
  },
  {
   "cell_type": "code",
   "execution_count": 14,
   "metadata": {},
   "outputs": [
    {
     "name": "stdout",
     "output_type": "stream",
     "text": [
      "['ORG', 'Shyam Hagar', 'FAC', 'Sanganer Road', 'ORG', 'Jaipur-303902', 'CARDINAL', '1800', 'LAW', 'ITEM DESC QTY DISC AMT HET', 'PRODUCT', 'ANT VAT', 'ORG', 'ALA', 'CARDINAL', '0.00', 'CARDINAL', '116.00', 'PERCENT', '14.5%', 'CARDINAL', '2b 1', 'CARDINAL', '67.00', 'CARDINAL', '40', 'CARDINAL', '0.00 15.00', 'PERCENT', '14.5%', 'CARDINAL', '86.00', 'PERCENT', '14.5%', 'PERCENT', '14.5%', 'CARDINAL', '69.00', 'DATE', '08 69', 'CARDINAL', '69.00', 'ORG', 'VAT', 'PERCENT', '0%', 'CARDINAL', '0.00', 'PRODUCT', 'JASHIN ROSE 4KG', 'PERCENT', '14.5%', 'CARDINAL', '331.00', 'CARDINAL', '48.00', 'CARDINAL', '0.00 175.0']\n"
     ]
    }
   ],
   "source": [
    "print(store)"
   ]
  },
  {
   "cell_type": "code",
   "execution_count": 15,
   "metadata": {},
   "outputs": [],
   "source": [
    "size=len(store)"
   ]
  },
  {
   "cell_type": "code",
   "execution_count": 16,
   "metadata": {},
   "outputs": [
    {
     "name": "stdout",
     "output_type": "stream",
     "text": [
      "date detected is:08 69 \n"
     ]
    }
   ],
   "source": [
    "#to select the first \"DATE\" and last \"MONEY\" lable\n",
    "\n",
    "in_i=0\n",
    "in_j=0\n",
    "for i,j in zip(range(0,size) , range(size-1,-1,-1)): \n",
    "  if(in_i!=1):\n",
    "    if store[i]==\"DATE\":\n",
    "        print(\"date detected is:{} \".format(store[i+1]))\n",
    "        in_i=1\n",
    "        \n",
    "  if(in_j!=1):\n",
    "    if store[j]==\"MONEY\":\n",
    "        print(\"money to be paid detected is:{} \".format(store[j+1]))\n",
    "        in_j=1\n",
    "        \n",
    "  if(in_i==1&in_j==1):\n",
    "    break"
   ]
  },
  {
   "cell_type": "markdown",
   "metadata": {},
   "source": [
    "# trying to increase the accuracy"
   ]
  },
  {
   "cell_type": "code",
   "execution_count": 33,
   "metadata": {},
   "outputs": [
    {
     "name": "stdout",
     "output_type": "stream",
     "text": [
      "Resultant list is : og ETM RETAIL LTD Bigbazaar Plot Ho5   Trinity Mail Opp Shyam Hagar New Sanganer Road  Jaipur-303902 TEL NO. 0141-5159909 HELPLINE 1800 200 2255 VAT T1N0808161327g WE.F. 01.08.2009 CIN HOL51S0SHH2007PLC269269     ITEM DESC QTY DISC AMT HET ANT VAT RATE BASE ANT VAT AMT  Rs. ALA LIQ BLEACH 500HL 2 0.00 = 116.00 VAT 14.5% 101.31 1469 THUMSUP SOFT ORKK 2b 1 12.00- 67.00 HVAT 20X 55.83 Wl .  QUA TOMATO YEGIE 40g 1 0.00 15.00 VAT 14.5% 13.10 1.90.  FLUSH TABLT 2506 1 0.00. 86.00  VAT 14.5% 7424 10.78  i DETT HAMDUASH 200HL 1 0.00 86.00  VAT 14.5% 7511 10.89 A. Plain dyed HT Pink 4 0 red 69.00 A VAT 08 69. ‘ Plain Dyed HT Hine  0.00 = 69.00 A VAT 0% 69.00 0.00 TIDE JASHIN ROSE 4KG  20.00- 379.00   VAT 14.5% 331.00  48.00  TOILET BRUSH  0.00 175.0  \f",
      "\n"
     ]
    }
   ],
   "source": [
    "txt = txt.replace('\\n', ' ')\n",
    "bad_chars = [';', ':', '!', \"*\", '#', '}', '{', '|', '/', '?','°', '”', '~', ',']\n",
    " \n",
    "# initializing test string \n",
    "# test_string = \"Ge;ek * s:fo ! r;Ge * e*k:s !\"\n",
    " \n",
    "# printing original string \n",
    "# print (\"Original String : \" + test_string)\n",
    " \n",
    "# using join() + generator to \n",
    "# remove bad_chars \n",
    "test_string = ''.join(i for i in txt if not i in bad_chars)\n",
    " \n",
    "# printing resultant string \n",
    "print (\"Resultant list is : \" + str(test_string))"
   ]
  },
  {
   "cell_type": "code",
   "execution_count": 18,
   "metadata": {},
   "outputs": [
    {
     "name": "stdout",
     "output_type": "stream",
     "text": [
      "og ETM RETAIL LTD} Bigbazaar, Plot Ho:5, ”!  Trinity Mail, Opp: Shyam Hagar New Sanganer Road , Jaipur-303902 TEL NO. 0141-5159909 HELPLINE: 1800 200 2255 VAT T1N:0808161327g WE.F. 01.08.2009 CIN HO;L51S0SHH2007PLC269269     ITEM DESC QTY DISC AMT HET ANT VAT RATE BASE ANT VAT AMT : Rs. ALA LIQ BLEACH 500HL 2 0.00 = 116.00 VAT 14.5% 101.31 14,69 THUMSUP SOFT ORKK 2b 1 12.00- 67.00 HVAT 20X 55.83 Wl? . : QUA TOMATO YEGIE 40g 1 0.00 15.00 VAT 14.5% 13.10 1.90. / FLUSH TABLT 2#506 1 0.00°. 86.00 | VAT 14.5% 74,24 10.78 ! i DETT HAMDUASH 200HL 1 0.00 86.00 | VAT 14.5% 75,11 10.89 A. Plain dyed HT Pink 4 0 red 69.00 A VAT 08 69. ‘ Plain Dyed HT Hine | 0.00 = 69.00 A VAT 0% 69.00 0.00 TIDE JASHIN ROSE 4KG } 20.00- 379.00  | VAT 14.5% 331.00  48.00 , TOILET BRUSH ~ 0.00 175.0! | \f",
      "\n"
     ]
    }
   ],
   "source": [
    "print(txt)"
   ]
  },
  {
   "cell_type": "code",
   "execution_count": 19,
   "metadata": {},
   "outputs": [
    {
     "name": "stdout",
     "output_type": "stream",
     "text": [
      "Entities and scores (detected with beam search)\n",
      "Label: ORG, Text: ETM RETAIL LTD} Bigbazaar, Score: 0.9999999999999998\n",
      "Label: ORG, Text: Plot, Score: 0.9999999999999998\n",
      "Label: PERSON, Text: Trinity Mail, Score: 0.9999999999999998\n",
      "Label: CARDINAL, Text: 1800, Score: 0.9999999999999998\n",
      "Label: CARDINAL, Text: 200, Score: 0.9999999999999998\n",
      "Label: CARDINAL, Text: 116.00, Score: 0.9999999999999998\n",
      "Label: PERCENT, Text: 14.5%, Score: 0.9999999999999998\n",
      "Label: CARDINAL, Text: 67.00, Score: 0.9999999999999998\n",
      "Label: ORG, Text: HVAT, Score: 0.9999999999999998\n",
      "Label: CARDINAL, Text: 40, Score: 0.9999999999999998\n",
      "Label: CARDINAL, Text: 0.00 15.00, Score: 0.9999999999999998\n",
      "Label: PERCENT, Text: 14.5%, Score: 0.9999999999999998\n",
      "Label: CARDINAL, Text: 86.00, Score: 0.9999999999999998\n",
      "Label: PERCENT, Text: 14.5%, Score: 0.9999999999999998\n",
      "Label: PERCENT, Text: 14.5%, Score: 0.9999999999999998\n",
      "Label: CARDINAL, Text: 69.00, Score: 0.9999999999999998\n",
      "Label: DATE, Text: 08 69, Score: 0.9999999999999998\n",
      "Label: CARDINAL, Text: 69.00, Score: 0.9999999999999998\n",
      "Label: PERCENT, Text: 0%, Score: 0.9999999999999998\n",
      "Label: CARDINAL, Text: 69.00 0.00, Score: 0.9999999999999998\n",
      "Label: PRODUCT, Text: JASHIN ROSE 4KG, Score: 0.9999999999999998\n",
      "Label: PERCENT, Text: 14.5%, Score: 0.9999999999999998\n",
      "Label: CARDINAL, Text: 331.00, Score: 0.8031838010158763\n",
      "Label: CARDINAL, Text: 48.00, Score: 0.9999999999999998\n",
      "Label: CARDINAL, Text: 0.00 175.0, Score: 0.9999999999999998\n"
     ]
    }
   ],
   "source": [
    "with nlp.disable_pipes('ner'):\n",
    "    doc = nlp(txt)\n",
    "\n",
    "store1 = []    \n",
    "threshold = 0.75\n",
    "beams = nlp.entity.beam_parse([ doc ], beam_width = 16, beam_density = 0.0001)\n",
    "\n",
    "entity_scores = defaultdict(float)\n",
    "for beam in beams:\n",
    "    for score, ents in nlp.entity.moves.get_beam_parses(beam):\n",
    "        for start, end, label in ents:\n",
    "            entity_scores[(start, end, label)] += score\n",
    "\n",
    "print ('Entities and scores (detected with beam search)')\n",
    "for key in entity_scores:\n",
    "    start, end, label = key\n",
    "    score = entity_scores[key]\n",
    "    if ( score > threshold):\n",
    "        store1.append(label) \n",
    "        store1.append('{}'.format(doc[start:end]))\n",
    "        print ('Label: {}, Text: {}, Score: {}'.format(label, doc[start:end], score))\n"
   ]
  },
  {
   "cell_type": "code",
   "execution_count": 20,
   "metadata": {},
   "outputs": [
    {
     "name": "stdout",
     "output_type": "stream",
     "text": [
      "['ORG', 'ETM RETAIL LTD} Bigbazaar', 'ORG', 'Plot', 'PERSON', 'Trinity Mail', 'CARDINAL', '1800', 'CARDINAL', '200', 'CARDINAL', '116.00', 'PERCENT', '14.5%', 'CARDINAL', '67.00', 'ORG', 'HVAT', 'CARDINAL', '40', 'CARDINAL', '0.00 15.00', 'PERCENT', '14.5%', 'CARDINAL', '86.00', 'PERCENT', '14.5%', 'PERCENT', '14.5%', 'CARDINAL', '69.00', 'DATE', '08 69', 'CARDINAL', '69.00', 'PERCENT', '0%', 'CARDINAL', '69.00 0.00', 'PRODUCT', 'JASHIN ROSE 4KG', 'PERCENT', '14.5%', 'CARDINAL', '331.00', 'CARDINAL', '48.00', 'CARDINAL', '0.00 175.0']\n"
     ]
    }
   ],
   "source": [
    "print(store1)"
   ]
  },
  {
   "cell_type": "code",
   "execution_count": 21,
   "metadata": {},
   "outputs": [
    {
     "name": "stdout",
     "output_type": "stream",
     "text": [
      "date detected is:08 69 \n"
     ]
    }
   ],
   "source": [
    "size=len(store1)\n",
    "#to select the first \"DATE\" and last \"MONEY\" lable\n",
    "\n",
    "in_i=0\n",
    "in_j=0\n",
    "for i,j in zip(range(0,size) , range(size-1,-1,-1)): \n",
    "  if(in_i!=1):\n",
    "    if store1[i]==\"DATE\":\n",
    "        print(\"date detected is:{} \".format(store1[i+1]))\n",
    "        in_i=1\n",
    "        \n",
    "  if(in_j!=1):\n",
    "    if store1[j]==\"MONEY\":\n",
    "        print(\"money to be paid detected is:{} \".format(store1[j+1]))\n",
    "        in_j=1\n",
    "        \n",
    "  if(in_i==1&in_j==1):\n",
    "    break"
   ]
  },
  {
   "cell_type": "markdown",
   "metadata": {},
   "source": [
    "# using nltk"
   ]
  },
  {
   "cell_type": "code",
   "execution_count": 22,
   "metadata": {},
   "outputs": [],
   "source": [
    "import nltk\n",
    "from nltk.tokenize import word_tokenize\n",
    "from nltk.tag import pos_tag"
   ]
  },
  {
   "cell_type": "code",
   "execution_count": 23,
   "metadata": {},
   "outputs": [
    {
     "data": {
      "text/plain": [
       "[('hello', 'NN'),\n",
       " ('i', 'NN'),\n",
       " ('am', 'VBP'),\n",
       " ('Parikshit', 'NNP'),\n",
       " ('Singh', 'NNP'),\n",
       " (',', ','),\n",
       " ('nice', 'JJ'),\n",
       " ('to', 'TO'),\n",
       " ('meet', 'VB'),\n",
       " ('you', 'PRP'),\n",
       " ('.', '.'),\n",
       " ('i', 'VB'),\n",
       " ('am', 'VBP'),\n",
       " ('from', 'IN'),\n",
       " ('london', 'NN'),\n",
       " ('and', 'CC'),\n",
       " ('my', 'PRP$'),\n",
       " ('salary', 'NN'),\n",
       " ('is', 'VBZ'),\n",
       " ('$', '$'),\n",
       " ('5500', 'CD'),\n",
       " ('and', 'CC'),\n",
       " ('I', 'PRP'),\n",
       " ('was', 'VBD'),\n",
       " ('born', 'VBN'),\n",
       " ('on', 'IN'),\n",
       " ('14/11/1998', 'CD'),\n",
       " ('.', '.')]"
      ]
     },
     "execution_count": 23,
     "metadata": {},
     "output_type": "execute_result"
    }
   ],
   "source": [
    "def preprocess(sent):\n",
    "    sent = nltk.word_tokenize(sent)\n",
    "    sent = nltk.pos_tag(sent)\n",
    "    return sent\n",
    "ttext=\"hello i am Parikshit Singh, nice to meet you. i am from london and my salary is $5500 and I was born on 14/11/1998.\"\n",
    "sent = preprocess(ttext)\n",
    "sent"
   ]
  },
  {
   "cell_type": "code",
   "execution_count": 24,
   "metadata": {
    "scrolled": true
   },
   "outputs": [],
   "source": [
    "# nltk.download()"
   ]
  },
  {
   "cell_type": "code",
   "execution_count": 25,
   "metadata": {},
   "outputs": [],
   "source": [
    "from nltk.tag import StanfordNERTagger\n",
    "from nltk import word_tokenize"
   ]
  },
  {
   "cell_type": "code",
   "execution_count": 26,
   "metadata": {},
   "outputs": [
    {
     "name": "stdout",
     "output_type": "stream",
     "text": [
      "[('og', 'O'), ('ETM', 'ORGANIZATION'), ('RETAIL', 'ORGANIZATION'), ('LTD', 'ORGANIZATION'), ('}', 'O'), ('Bigbazaar', 'O'), (',', 'O'), ('Plot', 'O'), ('Ho:5', 'O'), (',', 'O'), ('”', 'O'), ('!', 'O'), ('Trinity', 'O'), ('Mail', 'O'), (',', 'O'), ('Opp', 'O'), (':', 'O'), ('Shyam', 'ORGANIZATION'), ('Hagar', 'ORGANIZATION'), ('New', 'ORGANIZATION'), ('Sanganer', 'ORGANIZATION'), ('Road', 'ORGANIZATION'), (',', 'O'), ('Jaipur-303902', 'O'), ('TEL', 'O'), ('NO', 'O'), ('.', 'O'), ('0141-5159909', 'O'), ('HELPLINE', 'O'), (':', 'O'), ('1800', 'O'), ('200', 'O'), ('2255', 'O'), ('VAT', 'O'), ('T1N:0808161327g', 'O'), ('WE.F', 'O'), ('.', 'O'), ('01.08.2009', 'O'), ('CIN', 'O'), ('HO', 'O'), (';', 'O'), ('L51S0SHH2007PLC269269', 'O'), ('ITEM', 'O'), ('DESC', 'O'), ('QTY', 'O'), ('DISC', 'O'), ('AMT', 'O'), ('HET', 'O'), ('ANT', 'O'), ('VAT', 'O'), ('RATE', 'O'), ('BASE', 'O'), ('ANT', 'O'), ('VAT', 'O'), ('AMT', 'O'), (':', 'O'), ('Rs', 'O'), ('.', 'O'), ('ALA', 'O'), ('LIQ', 'O'), ('BLEACH', 'O'), ('500HL', 'O'), ('2', 'O'), ('0.00', 'O'), ('=', 'O'), ('116.00', 'O'), ('VAT', 'O'), ('14.5', 'PERCENT'), ('%', 'PERCENT'), ('101.31', 'O'), ('14,69', 'O'), ('THUMSUP', 'O'), ('SOFT', 'O'), ('ORKK', 'O'), ('2b', 'O'), ('1', 'O'), ('12.00-', 'O'), ('67.00', 'O'), ('HVAT', 'O'), ('20X', 'O'), ('55.83', 'O'), ('Wl', 'O'), ('?', 'O'), ('.', 'O'), (':', 'O'), ('QUA', 'O'), ('TOMATO', 'O'), ('YEGIE', 'O'), ('40g', 'O'), ('1', 'O'), ('0.00', 'O'), ('15.00', 'O'), ('VAT', 'O'), ('14.5', 'PERCENT'), ('%', 'PERCENT'), ('13.10', 'O'), ('1.90', 'O'), ('.', 'O'), ('', 'O'), ('FLUSH', 'O'), ('TABLT', 'O'), ('2', 'O'), ('#', 'MONEY'), ('506', 'MONEY'), ('1', 'MONEY'), ('0.00°', 'MONEY'), ('.', 'O'), ('86.00', 'O'), ('|', 'O'), ('VAT', 'O'), ('14.5', 'PERCENT'), ('%', 'PERCENT'), ('74,24', 'O'), ('10.78', 'O'), ('!', 'O'), ('i', 'O'), ('DETT', 'O'), ('HAMDUASH', 'O'), ('200HL', 'O'), ('1', 'O'), ('0.00', 'O'), ('86.00', 'O'), ('|', 'O'), ('VAT', 'O'), ('14.5', 'PERCENT'), ('%', 'PERCENT'), ('75,11', 'O'), ('10.89', 'O'), ('A', 'O'), ('.', 'O'), ('Plain', 'O'), ('dyed', 'O'), ('HT', 'O'), ('Pink', 'O'), ('4', 'O'), ('0', 'O'), ('red', 'O'), ('69.00', 'O'), ('A', 'O'), ('VAT', 'O'), ('08', 'O'), ('69', 'O'), ('.', 'O'), ('‘', 'O'), ('Plain', 'O'), ('Dyed', 'O'), ('HT', 'O'), ('Hine', 'PERSON'), ('|', 'O'), ('0.00', 'O'), ('=', 'O'), ('69.00', 'O'), ('A', 'O'), ('VAT', 'O'), ('0', 'PERCENT'), ('%', 'PERCENT'), ('69.00', 'O'), ('0.00', 'O'), ('TIDE', 'O'), ('JASHIN', 'O'), ('ROSE', 'O'), ('4KG', 'O'), ('}', 'O'), ('20.00-', 'O'), ('379.00', 'O'), ('|', 'O'), ('VAT', 'O'), ('14.5', 'PERCENT'), ('%', 'PERCENT'), ('331.00', 'O'), ('48.00', 'O'), (',', 'O'), ('TOILET', 'O'), ('BRUSH', 'O'), ('~', 'O'), ('0.00', 'O'), ('175.0', 'O'), ('!', 'O'), ('|', 'O')] \n",
      "\n"
     ]
    }
   ],
   "source": [
    "stanfordClassifier = '/home/parikshit/Desktop/expense_mgr/by_psr/stanford-ner-4.2.0/stanford-ner-2020-11-17/classifiers/english.muc.7class.distsim.crf.ser.gz'\n",
    "stanfordNerPath = '/home/parikshit/Desktop/expense_mgr/by_psr/stanford-ner-4.2.0/stanford-ner-2020-11-17/stanford-ner.jar'\n",
    "st = StanfordNERTagger(stanfordClassifier, stanfordNerPath, encoding='utf8')\n",
    "result = st.tag(word_tokenize(txt))\n",
    "print (result,\"\\n\")"
   ]
  },
  {
   "cell_type": "code",
   "execution_count": null,
   "metadata": {},
   "outputs": [],
   "source": []
  }
 ],
 "metadata": {
  "kernelspec": {
   "display_name": "Python 3",
   "language": "python",
   "name": "python3"
  },
  "language_info": {
   "codemirror_mode": {
    "name": "ipython",
    "version": 3
   },
   "file_extension": ".py",
   "mimetype": "text/x-python",
   "name": "python",
   "nbconvert_exporter": "python",
   "pygments_lexer": "ipython3",
   "version": "3.6.5"
  }
 },
 "nbformat": 4,
 "nbformat_minor": 4
}
